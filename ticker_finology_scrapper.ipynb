{
 "cells": [
  {
   "cell_type": "code",
   "execution_count": 13,
   "id": "b977d737",
   "metadata": {},
   "outputs": [
    {
     "name": "stdout",
     "output_type": "stream",
     "text": [
      "please enter company short name only\n",
      "BEL\n",
      "https://ticker.finology.in/company/BEL\n",
      "successfully executed\n"
     ]
    }
   ],
   "source": [
    "import pandas as pd\n",
    "from openpyxl.workbook import Workbook\n",
    "from bs4 import BeautifulSoup as bs\n",
    "import requests\n",
    "import os\n",
    "import shutil\n",
    "from openpyxl import load_workbook\n",
    "import time\n",
    "import xlsxwriter\n",
    "\n",
    "try:\n",
    "    print(\"please enter company short name only\")\n",
    "    link_part2 = input()\n",
    "    link_part1 = \"https://ticker.finology.in/company/\"\n",
    "    link = link_part1 + link_part2\n",
    "    print(link)\n",
    "    data_frame = pd.read_html(link)\n",
    "    Len = len(data_frame)\n",
    "except:\n",
    "    print(\"please type only short code of the stock\")\n",
    "    \n",
    "\n",
    "for i in range(Len):\n",
    "    if i == 0:\n",
    "        df1 = data_frame[i]\n",
    "    else:\n",
    "        pass\n",
    "    if i == 1:\n",
    "        df2 = data_frame[i]\n",
    "    else:\n",
    "        pass\n",
    "    if i == 2:\n",
    "        df3 = data_frame[i]\n",
    "\n",
    "    else:\n",
    "        pass\n",
    "    if i == 3:\n",
    "        df4 = data_frame[i]\n",
    "\n",
    "    else:\n",
    "        pass\n",
    "    if i == 4:\n",
    "        df5 = data_frame[i]\n",
    "\n",
    "    else:\n",
    "        pass\n",
    "\n",
    "content = requests.get(link)\n",
    "html_cont = content.content\n",
    "bd_cont = bs(html_cont, \"html.parser\")\n",
    "\n",
    "try:\n",
    "    market_capital = bd_cont.find_all('div', {\"class\": \"col-6 col-md-4 compess\"})[0].p.span.text\n",
    "    market_capital = \"market_capital ,\" + market_capital\n",
    "except:\n",
    "    market_capital = \"market_capital ,\" + \"not found\"\n",
    "\n",
    "try:\n",
    "    pe_ratio = bd_cont.find_all('div', {\"class\": \"col-6 col-md-4 compess\"})[3].p.text.strip()\n",
    "    pe_ratio = \"pe_ratio ,\" + pe_ratio\n",
    "    \n",
    "except:\n",
    "    pe_ratio = \"pe_ratio ,\" + \"not found\"\n",
    "\n",
    "try:\n",
    "    pb_ratio = bd_cont.find_all('div', {\"class\": \"col-6 col-md-4 compess\"})[4].p.text.strip()\n",
    "    pb_ratio = 'pb_ratio ,' + pb_ratio\n",
    "    \n",
    "except:\n",
    "    pb_ratio = 'pb_ratio ,' + \"not found\"\n",
    "\n",
    "\n",
    "try:\n",
    "    debt = bd_cont.find_all('div', {\"class\": \"col-6 col-md-4 compess\"})[9].p.text.strip()\n",
    "    debt = 'debt ,' + debt\n",
    "except:\n",
    "    debt = 'debt ,' + \"not found\"\n",
    "\n",
    "    \n",
    "try:\n",
    "    sales_growth = bd_cont.find_all('div', {\"class\": \"col-6 col-md-4 compess\"})[12].p.text.strip()\n",
    "    sales_growth = 'sales_growth ,' + sales_growth\n",
    "    \n",
    "except:\n",
    "    sales_growth = 'sales_growth ,' + \"not found\"\n",
    "\n",
    "try:\n",
    "    roe = bd_cont.find_all('div', {\"class\": \"col-6 col-md-4 compess\"})[13].p.text.strip()\n",
    "    roe = 'roe ,' + roe\n",
    "except:\n",
    "    roe = 'roe ,' + \"not found\"\n",
    "\n",
    "    \n",
    "try:\n",
    "    roc_Value = bd_cont.find_all('div', {\"class\": \"col-6 col-md-4 compess\"})[14].p.text.strip()\n",
    "    roc_Value = 'roce ,' + roc_Value\n",
    "    \n",
    "except:\n",
    "    roc_Value = 'roce ,' + \"not found\"\n",
    "\n",
    "try:\n",
    "    debt_to_equity_ratio = bd_cont.find_all('span', {\"class\": \"h2\"})[0].span.text\n",
    "    debt_to_equity_ratio = 'debt_to_equity_ratio , ' + debt_to_equity_ratio\n",
    "except:\n",
    "    debt_to_equity_ratio = 'debt_to_equity_ratio , ' + 'not found'\n",
    "\n",
    "f = open(f'{link_part2}_company_essentials.csv', 'a')\n",
    "f.write(\"data , value\\n\")\n",
    "f.write(market_capital)\n",
    "f.write(\"\\n\")\n",
    "f.write(pe_ratio)\n",
    "f.write(\"\\n\")\n",
    "f.write(pb_ratio)\n",
    "f.write(\"\\n\")\n",
    "f.write(sales_growth)\n",
    "f.write(\"\\n\")\n",
    "f.write(roe)\n",
    "f.write(\"\\n\")\n",
    "f.write(roc_Value)\n",
    "f.write(\"\\n\")\n",
    "f.write(debt_to_equity_ratio)\n",
    "f.close()\n",
    "\n",
    "\n",
    "file = link_part2 + \"_result.xlsx\"\n",
    "\n",
    "f = open(f'{file}', 'w')\n",
    "\n",
    "with pd.ExcelWriter(file) as writer:  \n",
    "    df2.to_excel(writer, sheet_name='Quarterly_Result')\n",
    "    df3.to_excel(writer, sheet_name='Profit_and_Los')\n",
    "    df4.to_excel(writer, sheet_name='Balance_Sheet')\n",
    "    df5.to_excel(writer, sheet_name='Cash_flow')\n",
    "\n",
    "f.close()\n",
    "    \n",
    "    \n",
    "parent_path = \"D:/project/\" \n",
    "\n",
    "directory = f'{link_part2}_share_details'\n",
    "\n",
    "path = os.path.join(parent_path, directory)\n",
    "\n",
    "try:\n",
    "    os.mkdir(path)\n",
    "except:\n",
    "    print(\"directory cant created\")\n",
    "      \n",
    "current_path = f'{parent_path}/{link_part2}_company_essentials.csv'\n",
    "destination_path = f'{parent_path}/{directory}'\n",
    "        \n",
    "try:\n",
    "    shutil.move(current_path , destination_path)\n",
    "except OSError as error:\n",
    "    print(\"cant move 1\")\n",
    "    \n",
    "current_path_table = f'{parent_path}/{file}'\n",
    "destination_path_table = f'{parent_path}/{directory}/{file}'\n",
    "try:\n",
    "    shutil.move(current_path_table , destination_path_table)\n",
    "    print('successfully executed')\n",
    "except:\n",
    "    print(\"Cant move\")\n"
   ]
  },
  {
   "cell_type": "code",
   "execution_count": 3,
   "id": "c99d8f12",
   "metadata": {},
   "outputs": [],
   "source": [
    "l = [\"ADANIPORTS\",\"APOLLOHOSP\",\"ASIANPAINT\",\"AXISBANK\",\"BAJFINANCE\",\"BAJAJFINSV\",\"BPCL\",\"BHARTIARTL\",\"BRITANNIA\",\"CIPLA\",\n",
    "     \"COALINDIA\",\n",
    "     \"DIVISLAB\",\n",
    "     \"DRREDDY\",\"EICHERMOT\",\n",
    "     \"GRASIM\",\"HDFCBANK\",\"HDFCLIFE\",\"HEROMOTOCO\",\"HINDALCO\",\"HINDUNILVR\",\"HDFC\",\"ICICIBANK\",\"ITC\",\n",
    "     \"INDUSINDBK\",\"INFY\",\"JSWSTEEL\",\"KOTAKBANK\",\"LT\",\"SCRIP-100520\",\"MARUTI\",\"NTPC\",\"NESTLEIND\",\"ONGC\",\n",
    "     \"POWERGRID\",\"RELIANCE\",\"SBILIFE\",\"SHREECEM\",\"SBIN\",\"SUNPHARMA\",\"TCS\",\"TATACONSUM\",\"TATAMOTORS\",\"TATASTEEL\",\n",
    "     \"TECHM\",\"TITAN\",\"UPL\",\"ULTRACEMCO\",\"WIPRO\"]"
   ]
  },
  {
   "cell_type": "code",
   "execution_count": 4,
   "id": "836c0139",
   "metadata": {},
   "outputs": [
    {
     "data": {
      "text/plain": [
       "48"
      ]
     },
     "execution_count": 4,
     "metadata": {},
     "output_type": "execute_result"
    }
   ],
   "source": [
    "len(l)"
   ]
  },
  {
   "cell_type": "code",
   "execution_count": 11,
   "id": "238cb0c6",
   "metadata": {},
   "outputs": [
    {
     "ename": "SyntaxError",
     "evalue": "EOL while scanning string literal (2079261187.py, line 9)",
     "output_type": "error",
     "traceback": [
      "\u001b[1;36m  Input \u001b[1;32mIn [11]\u001b[1;36m\u001b[0m\n\u001b[1;33m    destination_path2 = f'D:\\project\\all_company_details\\{i}_company_essentials.csv''\u001b[0m\n\u001b[1;37m                                                                                     ^\u001b[0m\n\u001b[1;31mSyntaxError\u001b[0m\u001b[1;31m:\u001b[0m EOL while scanning string literal\n"
     ]
    }
   ],
   "source": [
    "import os\n",
    "import shutil\n",
    "\n",
    "for i in l:\n",
    "    file_path = f'D:\\project\\{i}_share_details'\n",
    "    current_path = f'{file_path}\\{i}_company_essentials.csv'\n",
    "\n",
    "    destination_path2 = f'D:\\project\\all_company_details\\{i}_company_essentials.csv''\n",
    "        \n",
    "    try:\n",
    "        shutil.copy(current_path , destination_path2)\n",
    "    except:\n",
    "        pass\n",
    "\n",
    "    print(\"curren_path\")\n",
    "      "
   ]
  },
  {
   "cell_type": "code",
   "execution_count": 14,
   "id": "9bb26845",
   "metadata": {},
   "outputs": [
    {
     "ename": "SyntaxError",
     "evalue": "EOL while scanning string literal (115159557.py, line 1)",
     "output_type": "error",
     "traceback": [
      "\u001b[1;36m  Input \u001b[1;32mIn [14]\u001b[1;36m\u001b[0m\n\u001b[1;33m    l = \"ABB\tACC\tAUBANK\tABBOTINDIA\tADANIENT\tADANIGREEN\tADANIPORTS\tATGL\tADANITRANS\tABCAPITAL\tABFRL\tAPLLTD\tALKEM\tAMBUJACEM\tAPOLLOHOSP\tAPOLLOTYRE\tASHOKLEY\tASIANPAINT\tASTRAL\tAUROPHARMA\tDMART\tAXISBANK\tBAJAJ-AUTO\tBAJFINANCE\tBAJAJFINSV\tBAJAJHLDNG\tBALKRISIND\tBANDHANBNK\tBANKBARODA\tBANKINDIA\tBATAINDIA\tBERGEPAINT\tBEL\tBHARATFORG\tBHEL\tBPCL\tBHARTIARTL\tBIOCON\tBOSCHLTD\tBRITANNIA\tCANBK\tCHOLAFIN\tCIPLA\tCLEAN\tCOALINDIA\tCOFORGE\tCOLPAL\tCONCOR\tCOROMANDEL\tCROMPTON\tCUMMINSIND\tDLF\tDABUR\tDALBHARAT\tDEEPAKNTR\tDELHIVERY\tDIVISLAB\tDIXON\tLALPATHLAB\tDRREDDY\tEICHERMOT\tEMAMILTD\tESCORTS\tEXIDEIND\tNYKAA\tFEDERALBNK\tFORTIS\tGAIL\tGLAND\tGLENMARK\tGODREJCP\tGODREJPROP\tGRASIM\tGUJGASLTD\tGSPL\tHCLTECH\tHDFCAMC\tHDFCBANK\tHDFCLIFE\tHAVELLS\tHEROMOTOCO\tHINDALCO\tHAL\tHINDPETRO\tHINDUNILVR\tHINDZINC\tHONAUT\tHDFC\tICICIBANK\tICICIGI\tICICIPRULI\tISEC\tIDBI\tIDFCFIRSTB\tITC\tINDIAMART\tINDIANB\tIEX\tINDHOTEL\tIOC\tIRCTC\tIGL\tINDUSTOWER\tINDUSINDBK\tNAUKRI\tINFY\tINDIGO\tIPCALAB\tJSWENERGY\tJSWSTEEL\tJINDALSTEL\tJUBLFOOD\tKOTAKBANK\tL&TFH\tLTTS\tLICHSGFIN\tLTI\tLT\tLAURUSLABS\tLICI\tLUPIN\tMRF\tM&MFIN\tM&M\tMANAPPURAM\tMARICO\tMARUTI\tMFSL\tMAXHEALTH\tMETROPOLIS\tMINDTREE\tMPHASIS\tMUTHOOTFIN\tNTPC\tNATIONALUM\tNAVINFLUOR\tNESTLEIND\tNAM-INDIA\tOBEROIRLTY\tONGC\tOIL\tPAYTM\tOFSS\tPOLICYBZR\tPIIND\tPAGEIND\tPERSISTENT\tPETRONET\tPIDILITIND\tPOLYCAB\tPFC\tPOWERGRID\tPRESTIGE\tPGHH\tPNB\tRECLTD\tRELIANCE\tSBICARD\tSBILIFE\tSRF\tSHREECEM\tSRTRANSFIN\tSIEMENS\tSONACOMS\tSBIN\tSAIL\tSUNPHARMA\tSUNTV\tSYNGENE\tTVSMOTOR\tTATACHEM\tTATACOMM\tTCS\tTATACONSUM\tTATAELXSI\tTATAMOTORS\tTATAPOWER\tTATASTEEL\tTECHM\tRAMCOCEM\tTITAN\tTORNTPHARM\tTORNTPOWER\tTRENT\tTRIDENT\tUPL\tULTRACEMCO\tUNIONBANK\tUBL\tMCDOWELL-N\tVBL\tVEDL\tIDEA\tVOLTAS\tWHIRLPOOL\tWIPRO\tYESBANK\tZEEL\tZOMATO\tZYDUSLIFE\u001b[0m\n\u001b[1;37m            \t   \t      \t          \t        \t          \t          \t    \t          \t         \t     \t      \t     \t         \t          \t          \t        \t          \t      \t          \t     \t        \t          \t          \t          \t          \t          \t          \t          \t         \t         \t          \t   \t          \t    \t    \t          \t      \t        \t         \t     \t        \t     \t     \t         \t       \t      \t      \t          \t        \t          \t   \t     \t         \t         \t         \t        \t     \t          \t       \t         \t        \t       \t        \t     \t          \t      \t    \t     \t        \t        \t          \t      \t         \t    \t       \t       \t        \t        \t       \t          \t        \t   \t         \t          \t        \t      \t    \t         \t       \t          \t    \t    \t          \t   \t         \t       \t   \t        \t   \t     \t   \t          \t          \t      \t    \t      \t       \t         \t        \t          \t        \t         \t     \t    \t         \t   \t  \t          \t    \t     \t   \t      \t   \t          \t      \t      \t    \t         \t          \t        \t       \t          \t    \t          \t          \t         \t         \t          \t    \t   \t     \t    \t         \t     \t       \t          \t        \t          \t       \t   \t         \t        \t    \t   \t      \t        \t       \t       \t   \t        \t          \t       \t        \t    \t    \t         \t     \t       \t        \t        \t        \t   \t          \t         \t          \t         \t         \t     \t        \t     \t          \t          \t     \t       \t   \t          \t         \t   \t          \t   \t    \t    \t      \t         \t     \t       \t    \t      \t         ^\u001b[0m\n\u001b[1;31mSyntaxError\u001b[0m\u001b[1;31m:\u001b[0m EOL while scanning string literal\n"
     ]
    }
   ],
   "source": [
    "l = \"ABB\tACC\tAUBANK\tABBOTINDIA\tADANIENT\tADANIGREEN\tADANIPORTS\tATGL\tADANITRANS\tABCAPITAL\tABFRL\tAPLLTD\tALKEM\tAMBUJACEM\tAPOLLOHOSP\tAPOLLOTYRE\tASHOKLEY\tASIANPAINT\tASTRAL\tAUROPHARMA\tDMART\tAXISBANK\tBAJAJ-AUTO\tBAJFINANCE\tBAJAJFINSV\tBAJAJHLDNG\tBALKRISIND\tBANDHANBNK\tBANKBARODA\tBANKINDIA\tBATAINDIA\tBERGEPAINT\tBEL\tBHARATFORG\tBHEL\tBPCL\tBHARTIARTL\tBIOCON\tBOSCHLTD\tBRITANNIA\tCANBK\tCHOLAFIN\tCIPLA\tCLEAN\tCOALINDIA\tCOFORGE\tCOLPAL\tCONCOR\tCOROMANDEL\tCROMPTON\tCUMMINSIND\tDLF\tDABUR\tDALBHARAT\tDEEPAKNTR\tDELHIVERY\tDIVISLAB\tDIXON\tLALPATHLAB\tDRREDDY\tEICHERMOT\tEMAMILTD\tESCORTS\tEXIDEIND\tNYKAA\tFEDERALBNK\tFORTIS\tGAIL\tGLAND\tGLENMARK\tGODREJCP\tGODREJPROP\tGRASIM\tGUJGASLTD\tGSPL\tHCLTECH\tHDFCAMC\tHDFCBANK\tHDFCLIFE\tHAVELLS\tHEROMOTOCO\tHINDALCO\tHAL\tHINDPETRO\tHINDUNILVR\tHINDZINC\tHONAUT\tHDFC\tICICIBANK\tICICIGI\tICICIPRULI\tISEC\tIDBI\tIDFCFIRSTB\tITC\tINDIAMART\tINDIANB\tIEX\tINDHOTEL\tIOC\tIRCTC\tIGL\tINDUSTOWER\tINDUSINDBK\tNAUKRI\tINFY\tINDIGO\tIPCALAB\tJSWENERGY\tJSWSTEEL\tJINDALSTEL\tJUBLFOOD\tKOTAKBANK\tL&TFH\tLTTS\tLICHSGFIN\tLTI\tLT\tLAURUSLABS\tLICI\tLUPIN\tMRF\tM&MFIN\tM&M\tMANAPPURAM\tMARICO\tMARUTI\tMFSL\tMAXHEALTH\tMETROPOLIS\tMINDTREE\tMPHASIS\tMUTHOOTFIN\tNTPC\tNATIONALUM\tNAVINFLUOR\tNESTLEIND\tNAM-INDIA\tOBEROIRLTY\tONGC\tOIL\tPAYTM\tOFSS\tPOLICYBZR\tPIIND\tPAGEIND\tPERSISTENT\tPETRONET\tPIDILITIND\tPOLYCAB\tPFC\tPOWERGRID\tPRESTIGE\tPGHH\tPNB\tRECLTD\tRELIANCE\tSBICARD\tSBILIFE\tSRF\tSHREECEM\tSRTRANSFIN\tSIEMENS\tSONACOMS\tSBIN\tSAIL\tSUNPHARMA\tSUNTV\tSYNGENE\tTVSMOTOR\tTATACHEM\tTATACOMM\tTCS\tTATACONSUM\tTATAELXSI\tTATAMOTORS\tTATAPOWER\tTATASTEEL\tTECHM\tRAMCOCEM\tTITAN\tTORNTPHARM\tTORNTPOWER\tTRENT\tTRIDENT\tUPL\tULTRACEMCO\tUNIONBANK\tUBL\tMCDOWELL-N\tVBL\tVEDL\tIDEA\tVOLTAS\tWHIRLPOOL\tWIPRO\tYESBANK\tZEEL\tZOMATO\tZYDUSLIFE\n",
    "\""
   ]
  },
  {
   "cell_type": "code",
   "execution_count": 15,
   "id": "a58ccb36",
   "metadata": {},
   "outputs": [
    {
     "ename": "SyntaxError",
     "evalue": "invalid syntax (2220012357.py, line 1)",
     "output_type": "error",
     "traceback": [
      "\u001b[1;36m  Input \u001b[1;32mIn [15]\u001b[1;36m\u001b[0m\n\u001b[1;33m    ABB\tACC\tAUBANK\tABBOTINDIA\tADANIENT\tADANIGREEN\tADANIPORTS\tATGL\tADANITRANS\tABCAPITAL\tABFRL\tAPLLTD\tALKEM\tAMBUJACEM\tAPOLLOHOSP\tAPOLLOTYRE\tASHOKLEY\tASIANPAINT\tASTRAL\tAUROPHARMA\tDMART\tAXISBANK\tBAJAJ-AUTO\tBAJFINANCE\tBAJAJFINSV\tBAJAJHLDNG\tBALKRISIND\tBANDHANBNK\tBANKBARODA\tBANKINDIA\tBATAINDIA\tBERGEPAINT\tBEL\tBHARATFORG\tBHEL\tBPCL\tBHARTIARTL\tBIOCON\tBOSCHLTD\tBRITANNIA\tCANBK\tCHOLAFIN\tCIPLA\tCLEAN\tCOALINDIA\tCOFORGE\tCOLPAL\tCONCOR\tCOROMANDEL\tCROMPTON\tCUMMINSIND\tDLF\tDABUR\tDALBHARAT\tDEEPAKNTR\tDELHIVERY\tDIVISLAB\tDIXON\tLALPATHLAB\tDRREDDY\tEICHERMOT\tEMAMILTD\tESCORTS\tEXIDEIND\tNYKAA\tFEDERALBNK\tFORTIS\tGAIL\tGLAND\tGLENMARK\tGODREJCP\tGODREJPROP\tGRASIM\tGUJGASLTD\tGSPL\tHCLTECH\tHDFCAMC\tHDFCBANK\tHDFCLIFE\tHAVELLS\tHEROMOTOCO\tHINDALCO\tHAL\tHINDPETRO\tHINDUNILVR\tHINDZINC\tHONAUT\tHDFC\tICICIBANK\tICICIGI\tICICIPRULI\tISEC\tIDBI\tIDFCFIRSTB\tITC\tINDIAMART\tINDIANB\tIEX\tINDHOTEL\tIOC\tIRCTC\tIGL\tINDUSTOWER\tINDUSINDBK\tNAUKRI\tINFY\tINDIGO\tIPCALAB\tJSWENERGY\tJSWSTEEL\tJINDALSTEL\tJUBLFOOD\tKOTAKBANK\tL&TFH\tLTTS\tLICHSGFIN\tLTI\tLT\tLAURUSLABS\tLICI\tLUPIN\tMRF\tM&MFIN\tM&M\tMANAPPURAM\tMARICO\tMARUTI\tMFSL\tMAXHEALTH\tMETROPOLIS\tMINDTREE\tMPHASIS\tMUTHOOTFIN\tNTPC\tNATIONALUM\tNAVINFLUOR\tNESTLEIND\tNAM-INDIA\tOBEROIRLTY\tONGC\tOIL\tPAYTM\tOFSS\tPOLICYBZR\tPIIND\tPAGEIND\tPERSISTENT\tPETRONET\tPIDILITIND\tPOLYCAB\tPFC\tPOWERGRID\tPRESTIGE\tPGHH\tPNB\tRECLTD\tRELIANCE\tSBICARD\tSBILIFE\tSRF\tSHREECEM\tSRTRANSFIN\tSIEMENS\tSONACOMS\tSBIN\tSAIL\tSUNPHARMA\tSUNTV\tSYNGENE\tTVSMOTOR\tTATACHEM\tTATACOMM\tTCS\tTATACONSUM\tTATAELXSI\tTATAMOTORS\tTATAPOWER\tTATASTEEL\tTECHM\tRAMCOCEM\tTITAN\tTORNTPHARM\tTORNTPOWER\tTRENT\tTRIDENT\tUPL\tULTRACEMCO\tUNIONBANK\tUBL\tMCDOWELL-N\tVBL\tVEDL\tIDEA\tVOLTAS\tWHIRLPOOL\tWIPRO\tYESBANK\tZEEL\tZOMATO\tZYDUSLIFE\u001b[0m\n\u001b[1;37m       \t^\u001b[0m\n\u001b[1;31mSyntaxError\u001b[0m\u001b[1;31m:\u001b[0m invalid syntax\n"
     ]
    }
   ],
   "source": [
    "ABB\tACC\tAUBANK\tABBOTINDIA\tADANIENT\tADANIGREEN\tADANIPORTS\tATGL\tADANITRANS\tABCAPITAL\tABFRL\tAPLLTD\tALKEM\tAMBUJACEM\tAPOLLOHOSP\tAPOLLOTYRE\tASHOKLEY\tASIANPAINT\tASTRAL\tAUROPHARMA\tDMART\tAXISBANK\tBAJAJ-AUTO\tBAJFINANCE\tBAJAJFINSV\tBAJAJHLDNG\tBALKRISIND\tBANDHANBNK\tBANKBARODA\tBANKINDIA\tBATAINDIA\tBERGEPAINT\tBEL\tBHARATFORG\tBHEL\tBPCL\tBHARTIARTL\tBIOCON\tBOSCHLTD\tBRITANNIA\tCANBK\tCHOLAFIN\tCIPLA\tCLEAN\tCOALINDIA\tCOFORGE\tCOLPAL\tCONCOR\tCOROMANDEL\tCROMPTON\tCUMMINSIND\tDLF\tDABUR\tDALBHARAT\tDEEPAKNTR\tDELHIVERY\tDIVISLAB\tDIXON\tLALPATHLAB\tDRREDDY\tEICHERMOT\tEMAMILTD\tESCORTS\tEXIDEIND\tNYKAA\tFEDERALBNK\tFORTIS\tGAIL\tGLAND\tGLENMARK\tGODREJCP\tGODREJPROP\tGRASIM\tGUJGASLTD\tGSPL\tHCLTECH\tHDFCAMC\tHDFCBANK\tHDFCLIFE\tHAVELLS\tHEROMOTOCO\tHINDALCO\tHAL\tHINDPETRO\tHINDUNILVR\tHINDZINC\tHONAUT\tHDFC\tICICIBANK\tICICIGI\tICICIPRULI\tISEC\tIDBI\tIDFCFIRSTB\tITC\tINDIAMART\tINDIANB\tIEX\tINDHOTEL\tIOC\tIRCTC\tIGL\tINDUSTOWER\tINDUSINDBK\tNAUKRI\tINFY\tINDIGO\tIPCALAB\tJSWENERGY\tJSWSTEEL\tJINDALSTEL\tJUBLFOOD\tKOTAKBANK\tL&TFH\tLTTS\tLICHSGFIN\tLTI\tLT\tLAURUSLABS\tLICI\tLUPIN\tMRF\tM&MFIN\tM&M\tMANAPPURAM\tMARICO\tMARUTI\tMFSL\tMAXHEALTH\tMETROPOLIS\tMINDTREE\tMPHASIS\tMUTHOOTFIN\tNTPC\tNATIONALUM\tNAVINFLUOR\tNESTLEIND\tNAM-INDIA\tOBEROIRLTY\tONGC\tOIL\tPAYTM\tOFSS\tPOLICYBZR\tPIIND\tPAGEIND\tPERSISTENT\tPETRONET\tPIDILITIND\tPOLYCAB\tPFC\tPOWERGRID\tPRESTIGE\tPGHH\tPNB\tRECLTD\tRELIANCE\tSBICARD\tSBILIFE\tSRF\tSHREECEM\tSRTRANSFIN\tSIEMENS\tSONACOMS\tSBIN\tSAIL\tSUNPHARMA\tSUNTV\tSYNGENE\tTVSMOTOR\tTATACHEM\tTATACOMM\tTCS\tTATACONSUM\tTATAELXSI\tTATAMOTORS\tTATAPOWER\tTATASTEEL\tTECHM\tRAMCOCEM\tTITAN\tTORNTPHARM\tTORNTPOWER\tTRENT\tTRIDENT\tUPL\tULTRACEMCO\tUNIONBANK\tUBL\tMCDOWELL-N\tVBL\tVEDL\tIDEA\tVOLTAS\tWHIRLPOOL\tWIPRO\tYESBANK\tZEEL\tZOMATO\tZYDUSLIFE"
   ]
  },
  {
   "cell_type": "code",
   "execution_count": null,
   "id": "e260f4d5",
   "metadata": {},
   "outputs": [],
   "source": [
    "\"ABB\",\"ACC\",\"AUBANK\",\"ABBOTINDIA\",\"ADANIENT\",\"ADANIGREEN\",\"ADANIPORTS\",\"ATGL\",\"ADANITRANS\",\"ABCAPITAL\",\"ABFRL\",\"APLLTD\",\"ALKEM\",\"AMBUJACEM\",\"APOLLOHOSP\",\"APOLLOTYRE\",\"ASHOKLEY\",\"ASIANPAINT\",\"ASTRAL\",\"AUROPHARMA\",\"DMART\",\"AXISBANK\",\"BAJAJAUTO\",\"BAJFINANCE\",\"BAJAJFINSV\",\"BAJAJHLDNG\",\"BALKRISIND\",\"BANDHANBNK\",\"BANKBARODA\",\"BANKINDIA\",\"BATAINDIA\",\"BERGEPAINT\tBEL\tBHARATFORG\tBHEL\tBPCL\tBHARTIARTL\tBIOCON\tBOSCHLTD\tBRITANNIA\tCANBK\tCHOLAFIN\tCIPLA\tCLEAN\tCOALINDIA\tCOFORGE\tCOLPAL\tCONCOR\tCOROMANDEL\tCROMPTON\tCUMMINSIND\tDLF\tDABUR\tDALBHARAT\tDEEPAKNTR\tDELHIVERY\tDIVISLAB\tDIXON\tLALPATHLAB\tDRREDDY\tEICHERMOT\tEMAMILTD\tESCORTS\tEXIDEIND\tNYKAA\tFEDERALBNK\tFORTIS\tGAIL\tGLAND\tGLENMARK\tGODREJCP\tGODREJPROP\tGRASIM\tGUJGASLTD\tGSPL\tHCLTECH\tHDFCAMC\tHDFCBANK\tHDFCLIFE\tHAVELLS\tHEROMOTOCO\tHINDALCO\tHAL\tHINDPETRO\tHINDUNILVR\tHINDZINC\tHONAUT\tHDFC\tICICIBANK\tICICIGI\tICICIPRULI\tISEC\tIDBI\tIDFCFIRSTB\tITC\tINDIAMART\tINDIANB\tIEX\tINDHOTEL\tIOC\tIRCTC\tIGL\tINDUSTOWER\tINDUSINDBK\tNAUKRI\tINFY\tINDIGO\tIPCALAB\tJSWENERGY\tJSWSTEEL\tJINDALSTEL\tJUBLFOOD\tKOTAKBANK\tL&TFH\tLTTS\tLICHSGFIN\tLTI\tLT\tLAURUSLABS\tLICI\tLUPIN\tMRF\tM&MFIN\tM&M\tMANAPPURAM\tMARICO\tMARUTI\tMFSL\tMAXHEALTH\tMETROPOLIS\tMINDTREE\tMPHASIS\tMUTHOOTFIN\tNTPC\tNATIONALUM\tNAVINFLUOR\tNESTLEIND\tNAM-INDIA\tOBEROIRLTY\tONGC\tOIL\tPAYTM\tOFSS\tPOLICYBZR\tPIIND\tPAGEIND\tPERSISTENT\tPETRONET\tPIDILITIND\tPOLYCAB\tPFC\tPOWERGRID\tPRESTIGE\tPGHH\tPNB\tRECLTD\tRELIANCE\tSBICARD\tSBILIFE\tSRF\tSHREECEM\tSRTRANSFIN\tSIEMENS\tSONACOMS\tSBIN\tSAIL\tSUNPHARMA\tSUNTV\tSYNGENE\tTVSMOTOR\tTATACHEM\tTATACOMM\tTCS\tTATACONSUM\tTATAELXSI\tTATAMOTORS\tTATAPOWER\tTATASTEEL\tTECHM\tRAMCOCEM\tTITAN\tTORNTPHARM\tTORNTPOWER\tTRENT\tTRIDENT\tUPL\tULTRACEMCO\tUNIONBANK\tUBL\tMCDOWELL-N\tVBL\tVEDL\tIDEA\tVOLTAS\tWHIRLPOOL\tWIPRO\tYESBANK\tZEEL\tZOMATO\tZYDUSLIFE"
   ]
  },
  {
   "cell_type": "code",
   "execution_count": null,
   "id": "d7f99fb0",
   "metadata": {},
   "outputs": [],
   "source": []
  }
 ],
 "metadata": {
  "kernelspec": {
   "display_name": "Python 3 (ipykernel)",
   "language": "python",
   "name": "python3"
  },
  "language_info": {
   "codemirror_mode": {
    "name": "ipython",
    "version": 3
   },
   "file_extension": ".py",
   "mimetype": "text/x-python",
   "name": "python",
   "nbconvert_exporter": "python",
   "pygments_lexer": "ipython3",
   "version": "3.9.12"
  }
 },
 "nbformat": 4,
 "nbformat_minor": 5
}
